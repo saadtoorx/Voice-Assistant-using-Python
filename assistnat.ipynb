{
 "cells": [
  {
   "cell_type": "code",
   "execution_count": 41,
   "id": "033c9f05",
   "metadata": {},
   "outputs": [],
   "source": [
    "#Importing Libraries\n",
    "import speech_recognition as sr\n",
    "import pyttsx3\n",
    "import datetime\n",
    "import webbrowser\n",
    "import os\n",
    "import sys"
   ]
  },
  {
   "cell_type": "code",
   "execution_count": 42,
   "id": "770ba72a",
   "metadata": {},
   "outputs": [],
   "source": [
    "#Initializing the speech engine for text-to-speech\n",
    "engine = pyttsx3.init()"
   ]
  },
  {
   "cell_type": "code",
   "execution_count": 43,
   "id": "cfb524d2",
   "metadata": {},
   "outputs": [],
   "source": [
    "#Function Speak the text function\n",
    "def speak(text):\n",
    "    engine.say(text)\n",
    "    engine.runAndWait()"
   ]
  },
  {
   "cell_type": "code",
   "execution_count": 44,
   "id": "3db34556",
   "metadata": {},
   "outputs": [],
   "source": [
    "#Arrays with some common commands:\n",
    "greetings = ['hi', 'hello', 'hey']\n",
    "salam = ['aoa', 'assalamalaikum', 'assalam o alaikum']\n",
    "byes = ['bye','exit', 'quit']"
   ]
  },
  {
   "cell_type": "code",
   "execution_count": 45,
   "id": "9efeb5ec",
   "metadata": {},
   "outputs": [],
   "source": [
    "#User Input voice command Function\n",
    "def take_command():\n",
    "    recognizer = sr.Recognizer()\n",
    "\n",
    "    with sr.Microphone() as source:\n",
    "        print(\"Listening...\")\n",
    "        recognizer.adjust_for_ambient_noise(source)\n",
    "        audio = recognizer.listen(source)\n",
    "\n",
    "        try:\n",
    "            print(\"Recognizing...\")\n",
    "            command = recognizer.recognize_google(audio)\n",
    "            print(f\"User said: {command}\")\n",
    "        except sr.UnknownValueError:\n",
    "            print(\"Sorry, I did not understand that, can you repeat please.\")\n",
    "            return None\n",
    "        except sr.RequestError:\n",
    "            print(\"Network Error.\")\n",
    "            return None\n",
    "    return command.lower()\n"
   ]
  },
  {
   "cell_type": "code",
   "execution_count": 46,
   "id": "6726ea39",
   "metadata": {},
   "outputs": [],
   "source": [
    "#Respond to Command Function\n",
    "def respond(command):\n",
    "    \n",
    "    if any(greet in command for greet in greetings):\n",
    "        speak(\" Hello! How can i assist you today?\")\n",
    "\n",
    "    elif any(word in command for word in salam):\n",
    "        speak(\"Walaikum Assalam! How can I assist you today?\")\n",
    "\n",
    "    elif 'search' in command:\n",
    "        speak(\"What would you like to search for?\")\n",
    "\n",
    "        search_query = take_command()\n",
    "\n",
    "        if search_query:\n",
    "            speak(f\"Searching for {search_query}\")\n",
    "            webbrowser.open(f\"https://www.google.com/search?q={search_query}\")\n",
    "    \n",
    "    elif 'open' in command:\n",
    "        if 'chrome' in command:\n",
    "            speak(\"Opening Chrome\")\n",
    "            os.system(\"start chrome\")\n",
    "        elif 'calculator' in command:\n",
    "            speak(\"Opening Calculator\")\n",
    "            os.system(\"start calc\")\n",
    "        elif 'notepad' in command:\n",
    "            speak(\"Opening Notepad\")\n",
    "            os.system(\"start notepad\")\n",
    "    \n",
    "    elif any(word in command for word in byes):\n",
    "        speak(\"Goodbye! Have a great day.\")\n",
    "        sys.exit()\n",
    "\n",
    "    else:\n",
    "        speak(\"Sorry, I do not know the command.\")\n",
    "    "
   ]
  },
  {
   "cell_type": "code",
   "execution_count": 47,
   "id": "c569785c",
   "metadata": {},
   "outputs": [],
   "source": [
    "#Main function to run the assistant\n",
    "def run_assistant():\n",
    "    speak(\"Hello, I am your assistant. How can i help you today?\")\n",
    "\n",
    "    while True:\n",
    "        command = take_command()\n",
    "        if command:\n",
    "            respond(command)"
   ]
  },
  {
   "cell_type": "code",
   "execution_count": 48,
   "id": "894a852c",
   "metadata": {},
   "outputs": [
    {
     "name": "stdout",
     "output_type": "stream",
     "text": [
      "Listening...\n",
      "Recognizing...\n",
      "User said: hello\n",
      "Listening...\n",
      "Recognizing...\n",
      "User said: open Notepad\n",
      "Listening...\n",
      "Recognizing...\n",
      "Sorry, I did not understand that, can you repeat please.\n",
      "Listening...\n",
      "Recognizing...\n",
      "User said: open calculator\n",
      "Listening...\n",
      "Recognizing...\n",
      "User said: search\n",
      "Listening...\n",
      "Recognizing...\n",
      "User said: weather\n",
      "Listening...\n",
      "Recognizing...\n",
      "User said: search\n",
      "Listening...\n",
      "Recognizing...\n",
      "User said: cricket\n",
      "Listening...\n",
      "Recognizing...\n",
      "Sorry, I did not understand that, can you repeat please.\n",
      "Listening...\n",
      "Recognizing...\n",
      "User said: quit\n"
     ]
    },
    {
     "ename": "SystemExit",
     "evalue": "",
     "output_type": "error",
     "traceback": [
      "An exception has occurred, use %tb to see the full traceback.\n",
      "\u001b[31mSystemExit\u001b[39m\n"
     ]
    }
   ],
   "source": [
    "run_assistant()"
   ]
  }
 ],
 "metadata": {
  "kernelspec": {
   "display_name": "Python 3",
   "language": "python",
   "name": "python3"
  },
  "language_info": {
   "codemirror_mode": {
    "name": "ipython",
    "version": 3
   },
   "file_extension": ".py",
   "mimetype": "text/x-python",
   "name": "python",
   "nbconvert_exporter": "python",
   "pygments_lexer": "ipython3",
   "version": "3.13.3"
  }
 },
 "nbformat": 4,
 "nbformat_minor": 5
}
